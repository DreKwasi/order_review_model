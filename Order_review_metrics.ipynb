{
 "cells": [
  {
   "cell_type": "code",
   "execution_count": null,
   "metadata": {},
   "outputs": [],
   "source": [
    "import os\n",
    "import warnings\n",
    "import datetime as dt\n",
    "import re\n",
    "\n",
    "import matplotlib.pyplot as plt\n",
    "import numpy as np\n",
    "import pandas as pd\n",
    "import plotly_express as px\n",
    "import pmdarima as pm\n",
    "import vaex as vx\n",
    "from dateutil import parser\n",
    "from matplotlib import dates as mpl_dates\n",
    "from scipy.signal import savgol_filter\n",
    "from sklearn.metrics import mean_absolute_error, mean_squared_error\n",
    "from statsmodels.graphics.tsaplots import plot_acf, plot_pacf\n",
    "from statsmodels.tsa.arima.model import ARIMA\n",
    "from statsmodels.tsa.seasonal import seasonal_decompose\n",
    "from statsmodels.tsa.statespace.sarimax import SARIMAX\n",
    "from statsmodels.tsa.stattools import adfuller, arma_order_select_ic\n",
    "from st_app.data_structure import dtypes\n",
    "# from tensorflow.keras.layers import LSTM, Dense, Flatten\n",
    "# univariate lstm example\n",
    "# from tensorflow.keras.models import Sequential\n",
    "\n",
    "warnings.filterwarnings('ignore')\n",
    "\n",
    "%matplotlib widget\n",
    "%load_ext line_profiler\n"
   ]
  },
  {
   "cell_type": "code",
   "execution_count": null,
   "metadata": {},
   "outputs": [],
   "source": [
    "plt.rcParams.update({\n",
    "    \"lines.color\": \"white\",\n",
    "    \"patch.edgecolor\": \"white\",\n",
    "    \"text.color\": \"black\",\n",
    "    \"axes.facecolor\": \"white\",\n",
    "    \"axes.edgecolor\": \"lightgray\",\n",
    "    \"axes.labelcolor\": \"white\",\n",
    "    \"xtick.color\": \"white\",\n",
    "    \"ytick.color\": \"white\",\n",
    "    \"grid.color\": \"lightgray\",\n",
    "    \"figure.facecolor\": \"black\",\n",
    "    \"figure.edgecolor\": \"black\",\n",
    "    \"savefig.facecolor\": \"black\",\n",
    "    \"savefig.edgecolor\": \"black\"})\n",
    "\n",
    "plt.style.use('dark_background')\n"
   ]
  },
  {
   "cell_type": "code",
   "execution_count": null,
   "metadata": {},
   "outputs": [],
   "source": [
    "path = os.getcwd()\n",
    "\n",
    "# Imports data\n",
    "\n",
    "\n",
    "def parse_dates(x):\n",
    "    return dt.datetime.strptime(x, '%d/%m/%Y')\n",
    "\n",
    "\n",
    "# You can try both to check speed of import\n",
    "try:\n",
    "    data = vx.open('%s//data//bigdata.hdf5' % path)\n",
    "except (FileNotFoundError):\n",
    "    data = vx.read_csv('%s//data//consumption_data.csv' % path, dtype=dtypes,\n",
    "                       parse_dates=['Sale Date'], date_parser=parse_dates,\n",
    "                       chunk_size=500_000, convert='%s//data//bigdata.hdf5' % path)\n"
   ]
  },
  {
   "cell_type": "code",
   "execution_count": null,
   "metadata": {},
   "outputs": [],
   "source": [
    "# Stripping Facility Names of Spaces and filtering only active facilities\n",
    "data['Sale Facility'] = data['Sale Facility'].apply(lambda x: x.strip()).values\n",
    "\n",
    "# Drop All Missing Values\n",
    "data = data.dropmissing(['Product Name', 'Sale Facility'])\n"
   ]
  },
  {
   "cell_type": "code",
   "execution_count": 129,
   "metadata": {},
   "outputs": [],
   "source": [
    "# Import VFL_CHECK\n",
    "vfl_check = pd.read_csv('%s//data//vfl_check.csv' % path)\n",
    "vfl_check['DISPENSATION VFL'] = vfl_check['DISPENSATION VFL'].apply(\n",
    "    lambda x: x.strip())\n",
    "vfl_list = vfl_check['DISPENSATION VFL'].tolist()\n",
    "vfl_vx = vx.from_pandas(vfl_check)\n",
    "\n",
    "# Import VDL Check\n",
    "vdl_check = pd.read_csv('%s//data//vdl_check.csv' % path, encoding='cp1252', dtype={\"Product ID\":\"str\"})\n",
    "vdl_check.drop_duplicates(['Product Description'], inplace=True)\n",
    "vdl_check['Product Description'] = vdl_check['Product Description'].apply(\n",
    "    lambda x: x.strip())\n",
    "vdl_check['Product ID'] = vdl_check['Product ID'].apply(\n",
    "    lambda x: str(x.strip('GH-')))\n",
    "vdl_check['Corresponding Quantity'] = vdl_check['Corresponding Quantity'].apply(\n",
    "    lambda x: int(re.findall(r'\\d+', x)[0]))\n",
    "vdl_vx = vx.from_pandas(vdl_check)\n"
   ]
  },
  {
   "cell_type": "code",
   "execution_count": null,
   "metadata": {},
   "outputs": [],
   "source": [
    "def new_assign(vx_df, columns):\n",
    "    for i in columns:\n",
    "        vx_df[i] = vx_df[i].values.data\n"
   ]
  },
  {
   "cell_type": "code",
   "execution_count": null,
   "metadata": {},
   "outputs": [],
   "source": [
    "# Filtering all active facilities\n",
    "filtered_data = data[data['Sale Facility'].isin(vfl_list)]\n",
    "filtered_data = filtered_data.extract()\n"
   ]
  },
  {
   "cell_type": "code",
   "execution_count": null,
   "metadata": {},
   "outputs": [],
   "source": [
    "# Join the VDL Check Data with Filtered Data on Product IDs to get Categories\n",
    "filtered_data.join(vdl_vx, how='left', left_on='Vdl Drug ID',\n",
    "                   right_on='Product ID', inplace=True)\n",
    "\n",
    "\n",
    "# Assigning the array data of the VDl Categories to the VDL Categories column since its a masked_array\n",
    "new_assign(filtered_data, vdl_check.columns.tolist())\n",
    "\n",
    "# Dropping unnecessary data after the join\n",
    "filtered_data.drop(['Product ID'], inplace=True)\n",
    "\n",
    "# Column for Packs Sold\n",
    "filtered_data['Packs_Sold'] = (\n",
    "    filtered_data['Sum of Quantity In Units'] / filtered_data['Corresponding Quantity']).values\n"
   ]
  },
  {
   "cell_type": "code",
   "execution_count": null,
   "metadata": {},
   "outputs": [],
   "source": [
    "# Joining vfl data wtih filtered_data to get facility locations\n",
    "filtered_data.join(vfl_vx, how='left', left_on='Sale Facility',\n",
    "                   right_on='DISPENSATION VFL', inplace=True)\n",
    "# Dropping unnecessary data columns\n",
    "filtered_data.drop(['SC VFL', 'DISPENSATION VFL'], inplace=True)\n"
   ]
  },
  {
   "cell_type": "code",
   "execution_count": null,
   "metadata": {},
   "outputs": [],
   "source": [
    "def col_rename(data):\n",
    "    # Place all Column Names in a List\n",
    "    col_names = data.get_column_names()\n",
    "    # Renaming all columns to fit Vaex standards\n",
    "    for i in col_names:\n",
    "        new_name = i.replace(\" \", \"_\").replace(\"-\", \"_\")\n",
    "        data.rename(i, new_name)\n",
    "        col_names[col_names.index(i)] = new_name\n",
    "\n",
    "\n",
    "col_rename(filtered_data)\n"
   ]
  },
  {
   "cell_type": "code",
   "execution_count": null,
   "metadata": {},
   "outputs": [],
   "source": [
    "df = filtered_data.extract()\n",
    "df.export_csv(\"data\\cleaned_data.csv\")\n"
   ]
  },
  {
   "cell_type": "markdown",
   "metadata": {},
   "source": [
    "**Stock Balance Data Analysis**\n"
   ]
  },
  {
   "cell_type": "code",
   "execution_count": 155,
   "metadata": {},
   "outputs": [
    {
     "data": {
      "text/html": [
       "<table>\n",
       "<thead>\n",
       "<tr><th>#                                  </th><th>facility_name                   </th><th>product id (vdl)  </th><th>product_name                          </th><th>Sum of stock balance in units  </th><th>Sum of stock_balance_in_packs  </th></tr>\n",
       "</thead>\n",
       "<tbody>\n",
       "<tr><td><i style='opacity: 0.6'>0</i>      </td><td>CENTRIXMAS PHARMACY             </td><td>106365            </td><td>Ambesyl 10mg Tablets x30              </td><td>30.0                           </td><td>1.0                            </td></tr>\n",
       "<tr><td><i style='opacity: 0.6'>1</i>      </td><td>CENTRIXMAS PHARMACY             </td><td>106373            </td><td>Atacand 32mg Tablets x28              </td><td>56.0                           </td><td>2.0                            </td></tr>\n",
       "<tr><td><i style='opacity: 0.6'>2</i>      </td><td>CENTRIXMAS PHARMACY             </td><td>106374            </td><td>Atacand 8mg Tablets x28               </td><td>56.0                           </td><td>2.0                            </td></tr>\n",
       "<tr><td><i style='opacity: 0.6'>3</i>      </td><td>CENTRIXMAS PHARMACY             </td><td>106377            </td><td>Atacand Plus 32mg/25mg Tablets x28    </td><td>56.0                           </td><td>2.0                            </td></tr>\n",
       "<tr><td><i style='opacity: 0.6'>4</i>      </td><td>CENTRIXMAS PHARMACY             </td><td>106378            </td><td>Atenolol (Exeter) 50mg Tablets x28    </td><td>28.0                           </td><td>1.0                            </td></tr>\n",
       "<tr><td>...                                </td><td>...                             </td><td>...               </td><td>...                                   </td><td>...                            </td><td>...                            </td></tr>\n",
       "<tr><td><i style='opacity: 0.6'>168,007</i></td><td>mPharma Kumasi Delivery Pharmacy</td><td>215040            </td><td>Domi-10 Suppository x5                </td><td>50.0                           </td><td>10.0                           </td></tr>\n",
       "<tr><td><i style='opacity: 0.6'>168,008</i></td><td>mPharma Kumasi Delivery Pharmacy</td><td>240967            </td><td>Se&#x27;Clear Eye Drops 10ml x1            </td><td>3.0                            </td><td>3.0                            </td></tr>\n",
       "<tr><td><i style='opacity: 0.6'>168,009</i></td><td>mPharma Kumasi Delivery Pharmacy</td><td>298342            </td><td>zymax 500mg tablet x500               </td><td>30.0                           </td><td>0.0                            </td></tr>\n",
       "<tr><td><i style='opacity: 0.6'>168,010</i></td><td>mPharma Kumasi Delivery Pharmacy</td><td>315679            </td><td>Co-amoksiklav (Vega) 228mg/5ml Susp x1</td><td>5.0                            </td><td>5.0                            </td></tr>\n",
       "<tr><td><i style='opacity: 0.6'>168,011</i></td><td>mPharma Kumasi Delivery Pharmacy</td><td>315680            </td><td>Co-amoksiklav (Vega) 457mg/5ml Susp x1</td><td>5.0                            </td><td>5.0                            </td></tr>\n",
       "</tbody>\n",
       "</table>"
      ],
      "text/plain": [
       "#        facility_name                     product id (vdl)    product_name                            Sum of stock balance in units    Sum of stock_balance_in_packs\n",
       "0        CENTRIXMAS PHARMACY               106365              Ambesyl 10mg Tablets x30                30.0                             1.0\n",
       "1        CENTRIXMAS PHARMACY               106373              Atacand 32mg Tablets x28                56.0                             2.0\n",
       "2        CENTRIXMAS PHARMACY               106374              Atacand 8mg Tablets x28                 56.0                             2.0\n",
       "3        CENTRIXMAS PHARMACY               106377              Atacand Plus 32mg/25mg Tablets x28      56.0                             2.0\n",
       "4        CENTRIXMAS PHARMACY               106378              Atenolol (Exeter) 50mg Tablets x28      28.0                             1.0\n",
       "...      ...                               ...                 ...                                     ...                              ...\n",
       "168,007  mPharma Kumasi Delivery Pharmacy  215040              Domi-10 Suppository x5                  50.0                             10.0\n",
       "168,008  mPharma Kumasi Delivery Pharmacy  240967              Se'Clear Eye Drops 10ml x1              3.0                              3.0\n",
       "168,009  mPharma Kumasi Delivery Pharmacy  298342              zymax 500mg tablet x500                 30.0                             0.0\n",
       "168,010  mPharma Kumasi Delivery Pharmacy  315679              Co-amoksiklav (Vega) 228mg/5ml Susp x1  5.0                              5.0\n",
       "168,011  mPharma Kumasi Delivery Pharmacy  315680              Co-amoksiklav (Vega) 457mg/5ml Susp x1  5.0                              5.0"
      ]
     },
     "execution_count": 155,
     "metadata": {},
     "output_type": "execute_result"
    }
   ],
   "source": [
    "# Importing Stock Balance Data\n",
    "stk_balance = vx.read_csv('%s//data//stock_balance.csv' % path, dtype={\n",
    "                          \"Sum of stock balance in units\": \"float32\", \"Sum of stock_balance_in_packs\": \"float32\", \n",
    "                          'product id (vdl)':'str'})\n",
    "\n",
    "# Dropping Unwanted Columns\n",
    "stk_balance.drop(columns=['inventory_date'], inplace=True)\n"
   ]
  },
  {
   "cell_type": "code",
   "execution_count": 156,
   "metadata": {},
   "outputs": [],
   "source": [
    "# Filtering out only active facilities\n",
    "stk_balance = stk_balance[stk_balance['facility_name'].isin(vfl_list)]"
   ]
  },
  {
   "cell_type": "code",
   "execution_count": 157,
   "metadata": {},
   "outputs": [
    {
     "data": {
      "text/plain": [
       "'Product ID'"
      ]
     },
     "execution_count": 157,
     "metadata": {},
     "output_type": "execute_result"
    }
   ],
   "source": [
    "grouped_stk = stk_balance.groupby(by=['facility_name', 'product id (vdl)', 'product_name']).agg({\n",
    "    'Sum of stock balance in units': \"sum\"})\n",
    "grouped_stk = grouped_stk[grouped_stk['Sum of stock balance in units'] > 0]\n",
    "grouped_stk.rename('product id (vdl)', 'Product ID')"
   ]
  },
  {
   "cell_type": "code",
   "execution_count": 158,
   "metadata": {},
   "outputs": [
    {
     "data": {
      "text/html": [
       "<table>\n",
       "<thead>\n",
       "<tr><th>#                                 </th><th>facility_name            </th><th>Product ID  </th><th>product_name                                    </th><th>Sum of stock balance in units  </th><th>Product Description                     </th><th>Form   </th><th>Strength     </th><th>Brand / Proprietary Name                </th><th>Manufacturer         </th><th>OTC/POM  </th><th>Tier  </th><th>VDL Sub Category  </th><th>Corresponding Quantity  </th></tr>\n",
       "</thead>\n",
       "<tbody>\n",
       "<tr><td><i style='opacity: 0.6'>0</i>     </td><td>Immaculate Pharmacy Ltd  </td><td>106815      </td><td>Symbicort 160mcg/4.5mcg (60 Doses) Turbuhaler x1</td><td>9.0                            </td><td>SYMBICORT TURBUHALER 160/4.5MCG (60 DOSE</td><td>Inhaler</td><td>160mcg/4.5mcg</td><td>SYMBICORT                               </td><td>AstraZeneca          </td><td>POM      </td><td>Tier 1</td><td>Anti-Asthma       </td><td>1                       </td></tr>\n",
       "<tr><td><i style='opacity: 0.6'>1</i>     </td><td>Minimax Pharmacy         </td><td>234448      </td><td>Ascoryl 125ml Syrup x1                          </td><td>47.0                           </td><td>Ascoryl 125ml Syrup x1                  </td><td>Syrup  </td><td>1            </td><td>ASCORYL SYR 125ML                       </td><td>M &amp; G Pharmaceuticals</td><td>OTC      </td><td>Tier 4</td><td>Cough &amp; Flu       </td><td>1                       </td></tr>\n",
       "<tr><td><i style='opacity: 0.6'>2</i>     </td><td>Fresh Spring Chemists Ltd</td><td>222663      </td><td>Sinus Headache PE (Allegiant Health) Capsules x1</td><td>16.0                           </td><td>SINUS HEADACHE PE CAPS x1               </td><td>Caplet </td><td>325MG/5MG    </td><td>SINUS HEADACHE PE CAPS                  </td><td>Allegiant Health     </td><td>OTC      </td><td>Tier 2</td><td>Analgesics        </td><td>1                       </td></tr>\n",
       "<tr><td><i style='opacity: 0.6'>3</i>     </td><td>Immaculate Pharmacy Ltd  </td><td>186799      </td><td>Irish Spring Bar x1                             </td><td>10.0                           </td><td>Irish Spring Bar x1                     </td><td>Soap   </td><td>1            </td><td>IRISH SPRING                            </td><td>Colgate-Palmolive    </td><td>OTC      </td><td>Tier 4</td><td>FMCG              </td><td>1                       </td></tr>\n",
       "<tr><td><i style='opacity: 0.6'>4</i>     </td><td>UNIHAM PHARMACY          </td><td>109112      </td><td>Proximexa 500mg Tablets x10                     </td><td>800.0                          </td><td>Proximexa 500mg Tablets x10             </td><td>Tablet </td><td>500MG        </td><td>PROXIMEXA                               </td><td>GSK                  </td><td>POM      </td><td>Tier 1</td><td>Anti-Infectives   </td><td>10                      </td></tr>\n",
       "<tr><td>...                               </td><td>...                      </td><td>...         </td><td>...                                             </td><td>...                            </td><td>...                                     </td><td>...    </td><td>...          </td><td>...                                     </td><td>...                  </td><td>...      </td><td>...   </td><td>...               </td><td>...                     </td></tr>\n",
       "<tr><td><i style='opacity: 0.6'>51,247</i></td><td>Pesca Pharmacy           </td><td>165682      </td><td>Ginsomin Eve (30 Doses) Softgel Capsules x1     </td><td>3.0                            </td><td>GINSOMIN EVE x1                         </td><td>Capsule</td><td>1            </td><td>GINSOMIN EVE                            </td><td>Mega                 </td><td>OTC      </td><td>Tier 3</td><td>Supplements       </td><td>1                       </td></tr>\n",
       "<tr><td><i style='opacity: 0.6'>51,248</i></td><td>Jags Pharmacy            </td><td>106801      </td><td>Nexium 20mg Tablet x14                          </td><td>126.0                          </td><td>Nexium 20mg Tablet x14                  </td><td>Capsule</td><td>20MG         </td><td>NEXIUM                                  </td><td>AstraZeneca          </td><td>POM      </td><td>Tier 1</td><td>Gastro-Intestinal </td><td>14                      </td></tr>\n",
       "<tr><td><i style='opacity: 0.6'>51,249</i></td><td>Jags Pharmacy            </td><td>108560      </td><td>Bioferon (30 Doses) Capsules x1                 </td><td>8.0                            </td><td>Bioferon (30 Doses) Capsules x1         </td><td>Capsule</td><td>1            </td><td>BIOFERON                                </td><td>Medreich             </td><td>OTC      </td><td>Tier 1</td><td>Supplements       </td><td>30                      </td></tr>\n",
       "<tr><td><i style='opacity: 0.6'>51,250</i></td><td>Jags Pharmacy            </td><td>162622      </td><td>Luex Baby Cough 100ml Syrup x1                  </td><td>20.0                           </td><td>Luex Baby Cough 100ml Syrup x1          </td><td>Syrup  </td><td>1            </td><td>LUEX BABY x1                            </td><td>Luex                 </td><td>OTC      </td><td>Tier 3</td><td>Cough &amp; Flu       </td><td>1                       </td></tr>\n",
       "<tr><td><i style='opacity: 0.6'>51,251</i></td><td>Jags Pharmacy            </td><td>235201      </td><td>Paracetamol (Exeter) 120mg/5ml 100ml Syrup x1   </td><td>7.0                            </td><td>PARACETAMOL 120MG/5ML (EXETER) SYR 100ML</td><td>Syrup  </td><td>120MG/5ML    </td><td>PARACETAMOL 120MG/5ML (EXETER) SYR 100ML</td><td>Exeter               </td><td>OTC      </td><td>Tier 2</td><td>Analgesics        </td><td>1                       </td></tr>\n",
       "</tbody>\n",
       "</table>"
      ],
      "text/plain": [
       "#       facility_name              Product ID    product_name                                      Sum of stock balance in units    Product Description                       Form     Strength       Brand / Proprietary Name                  Manufacturer           OTC/POM    Tier    VDL Sub Category    Corresponding Quantity\n",
       "0       Immaculate Pharmacy Ltd    106815        Symbicort 160mcg/4.5mcg (60 Doses) Turbuhaler x1  9.0                              SYMBICORT TURBUHALER 160/4.5MCG (60 DOSE  Inhaler  160mcg/4.5mcg  SYMBICORT                                 AstraZeneca            POM        Tier 1  Anti-Asthma         1\n",
       "1       Minimax Pharmacy           234448        Ascoryl 125ml Syrup x1                            47.0                             Ascoryl 125ml Syrup x1                    Syrup    1              ASCORYL SYR 125ML                         M & G Pharmaceuticals  OTC        Tier 4  Cough & Flu         1\n",
       "2       Fresh Spring Chemists Ltd  222663        Sinus Headache PE (Allegiant Health) Capsules x1  16.0                             SINUS HEADACHE PE CAPS x1                 Caplet   325MG/5MG      SINUS HEADACHE PE CAPS                    Allegiant Health       OTC        Tier 2  Analgesics          1\n",
       "3       Immaculate Pharmacy Ltd    186799        Irish Spring Bar x1                               10.0                             Irish Spring Bar x1                       Soap     1              IRISH SPRING                              Colgate-Palmolive      OTC        Tier 4  FMCG                1\n",
       "4       UNIHAM PHARMACY            109112        Proximexa 500mg Tablets x10                       800.0                            Proximexa 500mg Tablets x10               Tablet   500MG          PROXIMEXA                                 GSK                    POM        Tier 1  Anti-Infectives     10\n",
       "...     ...                        ...           ...                                               ...                              ...                                       ...      ...            ...                                       ...                    ...        ...     ...                 ...\n",
       "51,247  Pesca Pharmacy             165682        Ginsomin Eve (30 Doses) Softgel Capsules x1       3.0                              GINSOMIN EVE x1                           Capsule  1              GINSOMIN EVE                              Mega                   OTC        Tier 3  Supplements         1\n",
       "51,248  Jags Pharmacy              106801        Nexium 20mg Tablet x14                            126.0                            Nexium 20mg Tablet x14                    Capsule  20MG           NEXIUM                                    AstraZeneca            POM        Tier 1  Gastro-Intestinal   14\n",
       "51,249  Jags Pharmacy              108560        Bioferon (30 Doses) Capsules x1                   8.0                              Bioferon (30 Doses) Capsules x1           Capsule  1              BIOFERON                                  Medreich               OTC        Tier 1  Supplements         30\n",
       "51,250  Jags Pharmacy              162622        Luex Baby Cough 100ml Syrup x1                    20.0                             Luex Baby Cough 100ml Syrup x1            Syrup    1              LUEX BABY x1                              Luex                   OTC        Tier 3  Cough & Flu         1\n",
       "51,251  Jags Pharmacy              235201        Paracetamol (Exeter) 120mg/5ml 100ml Syrup x1     7.0                              PARACETAMOL 120MG/5ML (EXETER) SYR 100ML  Syrup    120MG/5ML      PARACETAMOL 120MG/5ML (EXETER) SYR 100ML  Exeter                 OTC        Tier 2  Analgesics          1"
      ]
     },
     "execution_count": 158,
     "metadata": {},
     "output_type": "execute_result"
    }
   ],
   "source": [
    "grouped_stk.join(vdl_vx, how='left', left_on='Product ID',\n",
    "                   right_on='Product ID', rsuffix='_sc', inplace=True)\n",
    "grouped_stk.drop(\"Product ID_sc\", inplace=True)"
   ]
  },
  {
   "cell_type": "code",
   "execution_count": 159,
   "metadata": {},
   "outputs": [],
   "source": [
    "grouped_stk['Stock Balance'] = grouped_stk['Sum of stock balance in units'] / grouped_stk['Corresponding Quantity']"
   ]
  },
  {
   "cell_type": "code",
   "execution_count": 160,
   "metadata": {},
   "outputs": [],
   "source": [
    "grouped_stk = grouped_stk.extract()\n",
    "grouped_stk.export_csv(\"data//cleaned_stock_balance.csv\")"
   ]
  },
  {
   "cell_type": "markdown",
   "metadata": {},
   "source": [
    "**Category Based Analysis**\n"
   ]
  },
  {
   "cell_type": "code",
   "execution_count": null,
   "metadata": {},
   "outputs": [],
   "source": [
    "Loc_Cat_df = filtered_data.groupby(by=['VDL_Sub_Category'], agg={\n",
    "    'Pack(s)_Sold': 'sum'}).sort(by='Pack(s)_Sold', ascending=False)\n"
   ]
  },
  {
   "cell_type": "code",
   "execution_count": null,
   "metadata": {},
   "outputs": [],
   "source": [
    "location = filtered_data['LOCATION'].unique()\n"
   ]
  },
  {
   "cell_type": "code",
   "execution_count": null,
   "metadata": {},
   "outputs": [],
   "source": [
    "px.line(data_frame=Loc_Cat_df, x='Sale_Date', y='Pack(s)_Sold')\n"
   ]
  },
  {
   "cell_type": "code",
   "execution_count": null,
   "metadata": {},
   "outputs": [],
   "source": [
    "df = px.data.tips()\n",
    "fig = px.scatter(df, x=\"total_bill\", y=\"tip\", color=\"sex\", symbol=\"smoker\", facet_col=\"time\",\n",
    "                 labels={\"sex\": \"Gender\", \"smoker\": \"Smokes\"})\n",
    "fig.show()\n"
   ]
  }
 ],
 "metadata": {
  "kernelspec": {
   "display_name": "Python 3.8.3 ('time_env': venv)",
   "language": "python",
   "name": "python3"
  },
  "language_info": {
   "codemirror_mode": {
    "name": "ipython",
    "version": 3
   },
   "file_extension": ".py",
   "mimetype": "text/x-python",
   "name": "python",
   "nbconvert_exporter": "python",
   "pygments_lexer": "ipython3",
   "version": "3.8.3"
  },
  "orig_nbformat": 4,
  "vscode": {
   "interpreter": {
    "hash": "11290721056f2e46499de3aac73c319d18c43e9dc2e09eff74b6cc9d5e765856"
   }
  }
 },
 "nbformat": 4,
 "nbformat_minor": 2
}

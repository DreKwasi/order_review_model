{
 "cells": [
  {
   "cell_type": "code",
   "execution_count": 3,
   "metadata": {},
   "outputs": [],
   "source": [
    "import os\n",
    "import warnings\n",
    "import datetime as dt\n",
    "import re\n",
    "\n",
    "import matplotlib.pyplot as plt\n",
    "import numpy as np\n",
    "import pandas as pd\n",
    "import plotly_express as px\n",
    "import pmdarima as pm\n",
    "import vaex as vx\n",
    "from dateutil import parser\n",
    "from matplotlib import dates as mpl_dates\n",
    "from scipy.signal import savgol_filter\n",
    "from sklearn.metrics import mean_absolute_error, mean_squared_error\n",
    "from statsmodels.graphics.tsaplots import plot_acf, plot_pacf\n",
    "from statsmodels.tsa.arima.model import ARIMA\n",
    "from statsmodels.tsa.seasonal import seasonal_decompose\n",
    "from statsmodels.tsa.statespace.sarimax import SARIMAX\n",
    "from statsmodels.tsa.stattools import adfuller, arma_order_select_ic\n",
    "import dtypes\n",
    "# from tensorflow.keras.layers import LSTM, Dense, Flatten\n",
    "# univariate lstm example\n",
    "# from tensorflow.keras.models import Sequential\n",
    "\n",
    "warnings.filterwarnings('ignore')\n",
    "\n",
    "%matplotlib widget\n",
    "%load_ext line_profiler\n"
   ]
  },
  {
   "cell_type": "code",
   "execution_count": 4,
   "metadata": {},
   "outputs": [],
   "source": [
    "plt.rcParams.update({\n",
    "    \"lines.color\": \"white\",\n",
    "    \"patch.edgecolor\": \"white\",\n",
    "    \"text.color\": \"black\",\n",
    "    \"axes.facecolor\": \"white\",\n",
    "    \"axes.edgecolor\": \"lightgray\",\n",
    "    \"axes.labelcolor\": \"white\",\n",
    "    \"xtick.color\": \"white\",\n",
    "    \"ytick.color\": \"white\",\n",
    "    \"grid.color\": \"lightgray\",\n",
    "    \"figure.facecolor\": \"black\",\n",
    "    \"figure.edgecolor\": \"black\",\n",
    "    \"savefig.facecolor\": \"black\",\n",
    "    \"savefig.edgecolor\": \"black\"})\n",
    "\n",
    "plt.style.use('dark_background')\n"
   ]
  },
  {
   "cell_type": "code",
   "execution_count": 5,
   "metadata": {},
   "outputs": [],
   "source": [
    "path = os.getcwd()\n",
    "\n",
    "# Imports data\n",
    "\n",
    "\n",
    "def parse_dates(x):\n",
    "    return dt.datetime.strptime(x, '%Y-%m-%d')\n",
    "\n",
    "\n",
    "# You can try both to check speed of import\n",
    "try:\n",
    "    data = vx.open('%s//data//bigdata.hdf5' % path)\n",
    "except (FileNotFoundError):\n",
    "    data = vx.read_csv('%s//data//consumption_data.csv' % path, dtype=dtypes,\n",
    "                       parse_dates=['Sale Date'], date_parser=parse_dates,\n",
    "                       chunk_size=500_000, convert='%s//data//bigdata.hdf5' % path)\n"
   ]
  },
  {
   "cell_type": "code",
   "execution_count": 6,
   "metadata": {},
   "outputs": [],
   "source": [
    "# Stripping Facility Names of Spaces and filtering only active facilities\n",
    "data['Sale Facility'] = data['Sale Facility'].apply(lambda x: x.strip()).values\n",
    "\n",
    "# Drop All Missing Values\n",
    "data = data.dropmissing(['Product Name', 'Sale Facility'])\n"
   ]
  },
  {
   "cell_type": "code",
   "execution_count": 7,
   "metadata": {},
   "outputs": [],
   "source": [
    "# Import VFL_CHECK\n",
    "vfl_check = pd.read_csv('%s//data//vfl_check.csv' % path)\n",
    "vfl_check['DISPENSATION VFL'] = vfl_check['DISPENSATION VFL'].apply(\n",
    "    lambda x: x.strip())\n",
    "vfl_list = vfl_check['DISPENSATION VFL'].tolist()\n",
    "vfl_vx = vx.from_pandas(vfl_check)\n",
    "\n",
    "# Import VDL Check\n",
    "vdl_check = pd.read_csv('%s//data//vdl_check.csv' %\n",
    "                        path, encoding='cp1252', dtype={\"Product ID\": \"str\"})\n",
    "vdl_check.drop_duplicates(['Product Description'], inplace=True)\n",
    "vdl_check['Product Description'] = vdl_check['Product Description'].apply(\n",
    "    lambda x: x.strip())\n",
    "vdl_check['Product ID'] = vdl_check['Product ID'].apply(\n",
    "    lambda x: str(x.strip('GH-')))\n",
    "vdl_check['Corresponding Quantity'] = vdl_check['Corresponding Quantity'].apply(\n",
    "    lambda x: int(re.findall(r'\\d+', x)[0]))\n",
    "vdl_vx = vx.from_pandas(vdl_check)\n"
   ]
  },
  {
   "cell_type": "code",
   "execution_count": 8,
   "metadata": {},
   "outputs": [],
   "source": [
    "def new_assign(vx_df, columns):\n",
    "    for i in columns:\n",
    "        vx_df[i] = vx_df[i].values.data\n"
   ]
  },
  {
   "cell_type": "code",
   "execution_count": 9,
   "metadata": {},
   "outputs": [],
   "source": [
    "# Filtering all active facilities\n",
    "filtered_data = data[data['Sale Facility'].isin(vfl_list)]\n",
    "filtered_data = filtered_data.extract()\n"
   ]
  },
  {
   "cell_type": "code",
   "execution_count": 10,
   "metadata": {},
   "outputs": [],
   "source": [
    "# Join the VDL Check Data with Filtered Data on Product IDs to get Categories\n",
    "filtered_data.join(vdl_vx, how='left', left_on='Vdl Drug ID',\n",
    "                   right_on='Product ID', inplace=True)\n",
    "\n",
    "\n",
    "# Assigning the array data of the VDl Categories to the VDL Categories column since its a masked_array\n",
    "new_assign(filtered_data, vdl_check.columns.tolist())\n",
    "\n",
    "# Dropping unnecessary data after the join\n",
    "filtered_data.drop(['Product ID'], inplace=True)\n",
    "\n",
    "# Column for Packs Sold\n",
    "filtered_data['Packs_Sold'] = (\n",
    "    filtered_data['Sum of Quantity In Units'] / filtered_data['Corresponding Quantity']).values\n"
   ]
  },
  {
   "cell_type": "code",
   "execution_count": 11,
   "metadata": {},
   "outputs": [
    {
     "data": {
      "text/html": [
       "<table>\n",
       "<thead>\n",
       "<tr><th>#                                  </th><th>Sale Facility   </th><th>Sale Date                    </th><th>Customer Type  </th><th>Vdl Drug ID  </th><th>Vdl Drug Display Name                              </th><th>Product Name                                       </th><th>Item Category           </th><th>Item Sub Category  </th><th>Sum of Quantity In Units  </th><th>Sum of Quantity In Packs  </th><th>Product Description                  </th><th>Form       </th><th>Strength     </th><th>Brand / Proprietary Name  </th><th>Manufacturer  </th><th>OTC/POM  </th><th>Tier  </th><th>VDL Sub Category  </th><th>Corresponding Quantity  </th><th>Packs_Sold  </th><th>LOCATION     </th></tr>\n",
       "</thead>\n",
       "<tbody>\n",
       "<tr><td><i style='opacity: 0.6'>0</i>      </td><td>A &amp; F Pharmacy  </td><td>2022-11-22 00:00:00.000000000</td><td>guest          </td><td>107462       </td><td>Para-Denk 125mg Suppositories x10                  </td><td>Para-Denk 125mg Suppositories x10                  </td><td>MEDICINES AND TREATMENTS</td><td>Pain               </td><td>2                         </td><td>0.2                       </td><td>Para-Denk 125mg Suppositories x10    </td><td>Suppository</td><td>125MG        </td><td>PARA-DENK                 </td><td>Denk Pharma   </td><td>OTC      </td><td>Tier 2</td><td>Analgesics        </td><td>10                      </td><td>0.2         </td><td>GREATER ACCRA</td></tr>\n",
       "<tr><td><i style='opacity: 0.6'>1</i>      </td><td>A &amp; F Pharmacy  </td><td>2022-11-22 00:00:00.000000000</td><td>guest          </td><td>108558       </td><td>Naklofen Duo 75mg Tablets x20                      </td><td>Naklofen Duo 75mg Tablets x20                      </td><td>MEDICINES AND TREATMENTS</td><td>Pain               </td><td>10                        </td><td>0.5                       </td><td>Naklofen Duo 75mg Tablets x20        </td><td>Tablet     </td><td>75MG         </td><td>NAKOLFEN DUO              </td><td>Krka          </td><td>POM      </td><td>Tier 2</td><td>Analgesics        </td><td>20                      </td><td>0.5         </td><td>GREATER ACCRA</td></tr>\n",
       "<tr><td><i style='opacity: 0.6'>2</i>      </td><td>A &amp; F Pharmacy  </td><td>2022-11-22 00:00:00.000000000</td><td>guest          </td><td>126272       </td><td>Tagera-Forte 1g (2 Doses) Tablets x1               </td><td>Tagera-Forte 1g (2 Doses) Tablets x1               </td><td>no data                 </td><td>no data            </td><td>1                         </td><td>0.1                       </td><td>Tagera-Forte 1g (2 Doses) Tablets x1 </td><td>Tablet     </td><td>1g           </td><td>TAGERA-FORTE              </td><td>Unichem       </td><td>POM      </td><td>Tier 3</td><td>Anti-Infectives   </td><td>1                       </td><td>1.0         </td><td>GREATER ACCRA</td></tr>\n",
       "<tr><td><i style='opacity: 0.6'>3</i>      </td><td>A &amp; F Pharmacy  </td><td>2022-11-22 00:00:00.000000000</td><td>guest          </td><td>147626       </td><td>Enafix 100mg/5ml Suspension x1                     </td><td>Enafix 100mg/5ml Suspension x1                     </td><td>no data                 </td><td>no data            </td><td>1                         </td><td>1.0                       </td><td>Enafix 100mg/5ml Suspension x1       </td><td>Suspension </td><td>100MG/5ML    </td><td>ENAFIX 100                </td><td>Ernest Chemist</td><td>POM      </td><td>Tier 2</td><td>Anti-Infectives   </td><td>1                       </td><td>1.0         </td><td>GREATER ACCRA</td></tr>\n",
       "<tr><td><i style='opacity: 0.6'>4</i>      </td><td>A &amp; F Pharmacy  </td><td>2022-11-22 00:00:00.000000000</td><td>guest          </td><td>165608       </td><td>DIPHEX ANTITUSSIVE x1                              </td><td>DIPHEX                                             </td><td>DRUGS                   </td><td>Cough &amp; Flu        </td><td>1                         </td><td>1.0                       </td><td>DIPHEX ANTITUSSIVE x1                </td><td>Syrup      </td><td>7MG/5ML      </td><td>DIPHEX                    </td><td>PHYTORIKER    </td><td>OTC      </td><td>Tier 4</td><td>Cough &amp; Flu       </td><td>1                       </td><td>1.0         </td><td>GREATER ACCRA</td></tr>\n",
       "<tr><td>...                                </td><td>...             </td><td>...                          </td><td>...            </td><td>...          </td><td>...                                                </td><td>...                                                </td><td>...                     </td><td>...                </td><td>...                       </td><td>...                       </td><td>...                                  </td><td>...        </td><td>...          </td><td>...                       </td><td>...           </td><td>...      </td><td>...   </td><td>...               </td><td>...                     </td><td>...         </td><td>...          </td></tr>\n",
       "<tr><td><i style='opacity: 0.6'>882,275</i></td><td>Lifegem Pharmacy</td><td>2020-11-23 00:00:00.000000000</td><td>guest          </td><td>165519       </td><td>Cetapol PM 120mg/5ml Syrup x1                      </td><td>Cetapol PM 120mg/5ml Syrup x1                      </td><td>BABY AND CHILD HEALTH   </td><td>Fever and Pain     </td><td>1                         </td><td>1.0                       </td><td>Cetapol PM 120mg/5ml Syrup x1        </td><td>Syrup      </td><td>120MG/5ML    </td><td>CETAPOL PM                </td><td>PhytoRiker    </td><td>OTC      </td><td>Tier 4</td><td>Analgesics        </td><td>1                       </td><td>1.0         </td><td>ASHANTI      </td></tr>\n",
       "<tr><td><i style='opacity: 0.6'>882,276</i></td><td>Lifegem Pharmacy</td><td>2020-11-23 00:00:00.000000000</td><td>guest          </td><td>165652       </td><td>Foligrow 200ml Syrup x1                            </td><td>Foligrow 200ml Syrup                               </td><td>VITAMINS-AND-SUPPLEMENTS</td><td>Multivitamins      </td><td>1                         </td><td>1.0                       </td><td>Foligrow 200ml Syrup x1              </td><td>Syrup      </td><td>1            </td><td>FOLIGROW                  </td><td>Tobinco       </td><td>OTC      </td><td>Tier 3</td><td>Supplements       </td><td>1                       </td><td>1.0         </td><td>ASHANTI      </td></tr>\n",
       "<tr><td><i style='opacity: 0.6'>882,277</i></td><td>Lifegem Pharmacy</td><td>2020-11-23 00:00:00.000000000</td><td>guest          </td><td>165709       </td><td>Herbal Slimming Tea (21st Century) x1              </td><td>Herbal Slimming Tea (21st Century) x1              </td><td>no data                 </td><td>no data            </td><td>1                         </td><td>1.0                       </td><td>Herbal Slimming Tea (21st Century) x1</td><td>Capsule    </td><td>1            </td><td>HERBAL SLIMMING TEA       </td><td>21st Century  </td><td>OTC      </td><td>Tier 4</td><td>Supplements       </td><td>1                       </td><td>1.0         </td><td>ASHANTI      </td></tr>\n",
       "<tr><td><i style='opacity: 0.6'>882,278</i></td><td>Lifegem Pharmacy</td><td>2020-11-23 00:00:00.000000000</td><td>guest          </td><td>169837       </td><td>&#x27;Duplicate (Delete) Citro-C 100mg (10 Doses) Tab...</td><td>&#x27;Duplicate (Delete) Citro-C 100mg (10 Doses) Tab...</td><td>no data                 </td><td>no data            </td><td>3                         </td><td>0.12                      </td><td>Citro-C 100mg (10 Doses) Tablets x25 </td><td>Tablet     </td><td>100MG        </td><td>CITRO-C                   </td><td>A-EFAH        </td><td>OTC      </td><td>Tier 4</td><td>Supplements       </td><td>25                      </td><td>0.12        </td><td>ASHANTI      </td></tr>\n",
       "<tr><td><i style='opacity: 0.6'>882,279</i></td><td>Lifegem Pharmacy</td><td>2020-11-23 00:00:00.000000000</td><td>guest          </td><td>169845       </td><td>Congestyl (12 Doses) Tablets x1                    </td><td>Congestyl (12 Doses) Tablets x1                    </td><td>MEDICINES AND TREATMENTS</td><td>Cough, Cold &amp; flu  </td><td>1                         </td><td>1.0                       </td><td>Congestyl (12 Doses) Tablets x1      </td><td>Tablet     </td><td>5mg/4mg/500mg</td><td>CONGESTYL                 </td><td>Meyer         </td><td>OTC      </td><td>Tier 3</td><td>Cough &amp; Flu       </td><td>1                       </td><td>1.0         </td><td>ASHANTI      </td></tr>\n",
       "</tbody>\n",
       "</table>"
      ],
      "text/plain": [
       "#        Sale Facility     Sale Date                      Customer Type    Vdl Drug ID    Vdl Drug Display Name                                Product Name                                         Item Category             Item Sub Category    Sum of Quantity In Units    Sum of Quantity In Packs    Product Description                    Form         Strength       Brand / Proprietary Name    Manufacturer    OTC/POM    Tier    VDL Sub Category    Corresponding Quantity    Packs_Sold    LOCATION\n",
       "0        A & F Pharmacy    2022-11-22 00:00:00.000000000  guest            107462         Para-Denk 125mg Suppositories x10                    Para-Denk 125mg Suppositories x10                    MEDICINES AND TREATMENTS  Pain                 2                           0.2                         Para-Denk 125mg Suppositories x10      Suppository  125MG          PARA-DENK                   Denk Pharma     OTC        Tier 2  Analgesics          10                        0.2           GREATER ACCRA\n",
       "1        A & F Pharmacy    2022-11-22 00:00:00.000000000  guest            108558         Naklofen Duo 75mg Tablets x20                        Naklofen Duo 75mg Tablets x20                        MEDICINES AND TREATMENTS  Pain                 10                          0.5                         Naklofen Duo 75mg Tablets x20          Tablet       75MG           NAKOLFEN DUO                Krka            POM        Tier 2  Analgesics          20                        0.5           GREATER ACCRA\n",
       "2        A & F Pharmacy    2022-11-22 00:00:00.000000000  guest            126272         Tagera-Forte 1g (2 Doses) Tablets x1                 Tagera-Forte 1g (2 Doses) Tablets x1                 no data                   no data              1                           0.1                         Tagera-Forte 1g (2 Doses) Tablets x1   Tablet       1g             TAGERA-FORTE                Unichem         POM        Tier 3  Anti-Infectives     1                         1.0           GREATER ACCRA\n",
       "3        A & F Pharmacy    2022-11-22 00:00:00.000000000  guest            147626         Enafix 100mg/5ml Suspension x1                       Enafix 100mg/5ml Suspension x1                       no data                   no data              1                           1.0                         Enafix 100mg/5ml Suspension x1         Suspension   100MG/5ML      ENAFIX 100                  Ernest Chemist  POM        Tier 2  Anti-Infectives     1                         1.0           GREATER ACCRA\n",
       "4        A & F Pharmacy    2022-11-22 00:00:00.000000000  guest            165608         DIPHEX ANTITUSSIVE x1                                DIPHEX                                               DRUGS                     Cough & Flu          1                           1.0                         DIPHEX ANTITUSSIVE x1                  Syrup        7MG/5ML        DIPHEX                      PHYTORIKER      OTC        Tier 4  Cough & Flu         1                         1.0           GREATER ACCRA\n",
       "...      ...               ...                            ...              ...            ...                                                  ...                                                  ...                       ...                  ...                         ...                         ...                                    ...          ...            ...                         ...             ...        ...     ...                 ...                       ...           ...\n",
       "882,275  Lifegem Pharmacy  2020-11-23 00:00:00.000000000  guest            165519         Cetapol PM 120mg/5ml Syrup x1                        Cetapol PM 120mg/5ml Syrup x1                        BABY AND CHILD HEALTH     Fever and Pain       1                           1.0                         Cetapol PM 120mg/5ml Syrup x1          Syrup        120MG/5ML      CETAPOL PM                  PhytoRiker      OTC        Tier 4  Analgesics          1                         1.0           ASHANTI\n",
       "882,276  Lifegem Pharmacy  2020-11-23 00:00:00.000000000  guest            165652         Foligrow 200ml Syrup x1                              Foligrow 200ml Syrup                                 VITAMINS-AND-SUPPLEMENTS  Multivitamins        1                           1.0                         Foligrow 200ml Syrup x1                Syrup        1              FOLIGROW                    Tobinco         OTC        Tier 3  Supplements         1                         1.0           ASHANTI\n",
       "882,277  Lifegem Pharmacy  2020-11-23 00:00:00.000000000  guest            165709         Herbal Slimming Tea (21st Century) x1                Herbal Slimming Tea (21st Century) x1                no data                   no data              1                           1.0                         Herbal Slimming Tea (21st Century) x1  Capsule      1              HERBAL SLIMMING TEA         21st Century    OTC        Tier 4  Supplements         1                         1.0           ASHANTI\n",
       "882,278  Lifegem Pharmacy  2020-11-23 00:00:00.000000000  guest            169837         'Duplicate (Delete) Citro-C 100mg (10 Doses) Tab...  'Duplicate (Delete) Citro-C 100mg (10 Doses) Tab...  no data                   no data              3                           0.12                        Citro-C 100mg (10 Doses) Tablets x25   Tablet       100MG          CITRO-C                     A-EFAH          OTC        Tier 4  Supplements         25                        0.12          ASHANTI\n",
       "882,279  Lifegem Pharmacy  2020-11-23 00:00:00.000000000  guest            169845         Congestyl (12 Doses) Tablets x1                      Congestyl (12 Doses) Tablets x1                      MEDICINES AND TREATMENTS  Cough, Cold & flu    1                           1.0                         Congestyl (12 Doses) Tablets x1        Tablet       5mg/4mg/500mg  CONGESTYL                   Meyer           OTC        Tier 3  Cough & Flu         1                         1.0           ASHANTI"
      ]
     },
     "execution_count": 11,
     "metadata": {},
     "output_type": "execute_result"
    }
   ],
   "source": [
    "# Joining vfl data wtih filtered_data to get facility locations\n",
    "filtered_data.join(vfl_vx, how='left', left_on='Sale Facility',\n",
    "                   right_on='DISPENSATION VFL', inplace=True)\n",
    "# Dropping unnecessary data columns\n",
    "filtered_data.drop(['SC VFL', 'DISPENSATION VFL'], inplace=True)\n"
   ]
  },
  {
   "cell_type": "code",
   "execution_count": 12,
   "metadata": {},
   "outputs": [],
   "source": [
    "def col_rename(data):\n",
    "    # Place all Column Names in a List\n",
    "    col_names = data.get_column_names()\n",
    "    # Renaming all columns to fit Vaex standards\n",
    "    for i in col_names:\n",
    "        new_name = i.replace(\" \", \"_\").replace(\"-\", \"_\")\n",
    "        data.rename(i, new_name)\n",
    "        col_names[col_names.index(i)] = new_name\n",
    "\n",
    "\n",
    "col_rename(filtered_data)\n"
   ]
  },
  {
   "cell_type": "code",
   "execution_count": 38,
   "metadata": {},
   "outputs": [],
   "source": [
    "df = filtered_data.drop([\"Form\", \"Brand_/_Proprietary_Name\", \"Manufacturer\", \"OTC/POM\", \"Tier\",\n",
    "                        \"Packs_Sold\", \"Vdl_Drug_Display_Name\", \"Customer_Type\", \"Item_Category\", \"Item_Sub_Category\", \"Strength\", \"Corresponding_Quantity\", \"Sum_of_Quantity_In_Units\"])\n"
   ]
  },
  {
   "cell_type": "code",
   "execution_count": 41,
   "metadata": {},
   "outputs": [],
   "source": [
    "date_max = df['Sale_Date'].values.max()\n",
    "df_min = date_max - np.timedelta64(500, \"D\", )\n",
    "df = df[df.Sale_Date >= df_min]\n"
   ]
  },
  {
   "cell_type": "code",
   "execution_count": 42,
   "metadata": {},
   "outputs": [],
   "source": [
    "df = df.extract()\n",
    "df.export_csv(\"data\\cleaned_data.csv\")\n"
   ]
  },
  {
   "cell_type": "markdown",
   "metadata": {},
   "source": [
    "**Stock Balance Data Analysis**\n"
   ]
  },
  {
   "cell_type": "code",
   "execution_count": 15,
   "metadata": {},
   "outputs": [
    {
     "data": {
      "text/html": [
       "<table>\n",
       "<thead>\n",
       "<tr><th>#                                  </th><th>facility_name                 </th><th>product id (vdl)  </th><th>product_name                       </th><th>Sum of stock balance in units  </th><th>Sum of stock_balance_in_packs  </th></tr>\n",
       "</thead>\n",
       "<tbody>\n",
       "<tr><td><i style='opacity: 0.6'>0</i>      </td><td>CENTRIXMAS PHARMACY           </td><td>106365            </td><td>Ambesyl 10mg Tablets x30           </td><td>30.0                           </td><td>1.0                            </td></tr>\n",
       "<tr><td><i style='opacity: 0.6'>1</i>      </td><td>CENTRIXMAS PHARMACY           </td><td>106373            </td><td>Atacand 32mg Tablets x28           </td><td>56.0                           </td><td>2.0                            </td></tr>\n",
       "<tr><td><i style='opacity: 0.6'>2</i>      </td><td>CENTRIXMAS PHARMACY           </td><td>106374            </td><td>Atacand 8mg Tablets x28            </td><td>56.0                           </td><td>2.0                            </td></tr>\n",
       "<tr><td><i style='opacity: 0.6'>3</i>      </td><td>CENTRIXMAS PHARMACY           </td><td>106377            </td><td>Atacand Plus 32mg/25mg Tablets x28 </td><td>56.0                           </td><td>2.0                            </td></tr>\n",
       "<tr><td><i style='opacity: 0.6'>4</i>      </td><td>CENTRIXMAS PHARMACY           </td><td>106378            </td><td>Atenolol (Exeter) 50mg Tablets x28 </td><td>28.0                           </td><td>1.0                            </td></tr>\n",
       "<tr><td>...                                </td><td>...                           </td><td>...               </td><td>...                                </td><td>...                            </td><td>...                            </td></tr>\n",
       "<tr><td><i style='opacity: 0.6'>170,579</i></td><td>mPharma Delivery Pharmacy (GH)</td><td>302899            </td><td>Fiesta classic condom (3 pieces) x1</td><td>86.0                           </td><td>28.666666                      </td></tr>\n",
       "<tr><td><i style='opacity: 0.6'>170,580</i></td><td>mPharma Delivery Pharmacy (GH)</td><td>302901            </td><td>Fiesta Dotted condom ( 3pieces) x1 </td><td>58.0                           </td><td>19.333334                      </td></tr>\n",
       "<tr><td><i style='opacity: 0.6'>170,581</i></td><td>mPharma Delivery Pharmacy (GH)</td><td>302902            </td><td>Fiesta Extra condom (3 pieces ) x1 </td><td>36.0                           </td><td>12.0                           </td></tr>\n",
       "<tr><td><i style='opacity: 0.6'>170,582</i></td><td>mPharma Delivery Pharmacy (GH)</td><td>307294            </td><td>Atenolol (Bristol) 50mg Tablet x28 </td><td>868.0                          </td><td>31.0                           </td></tr>\n",
       "<tr><td><i style='opacity: 0.6'>170,583</i></td><td>mPharma Delivery Pharmacy (GH)</td><td>308703            </td><td>Luex Adult Dry Cough 150ml Syrup x1</td><td>10.0                           </td><td>10.0                           </td></tr>\n",
       "</tbody>\n",
       "</table>"
      ],
      "text/plain": [
       "#        facility_name                   product id (vdl)    product_name                         Sum of stock balance in units    Sum of stock_balance_in_packs\n",
       "0        CENTRIXMAS PHARMACY             106365              Ambesyl 10mg Tablets x30             30.0                             1.0\n",
       "1        CENTRIXMAS PHARMACY             106373              Atacand 32mg Tablets x28             56.0                             2.0\n",
       "2        CENTRIXMAS PHARMACY             106374              Atacand 8mg Tablets x28              56.0                             2.0\n",
       "3        CENTRIXMAS PHARMACY             106377              Atacand Plus 32mg/25mg Tablets x28   56.0                             2.0\n",
       "4        CENTRIXMAS PHARMACY             106378              Atenolol (Exeter) 50mg Tablets x28   28.0                             1.0\n",
       "...      ...                             ...                 ...                                  ...                              ...\n",
       "170,579  mPharma Delivery Pharmacy (GH)  302899              Fiesta classic condom (3 pieces) x1  86.0                             28.666666\n",
       "170,580  mPharma Delivery Pharmacy (GH)  302901              Fiesta Dotted condom ( 3pieces) x1   58.0                             19.333334\n",
       "170,581  mPharma Delivery Pharmacy (GH)  302902              Fiesta Extra condom (3 pieces ) x1   36.0                             12.0\n",
       "170,582  mPharma Delivery Pharmacy (GH)  307294              Atenolol (Bristol) 50mg Tablet x28   868.0                            31.0\n",
       "170,583  mPharma Delivery Pharmacy (GH)  308703              Luex Adult Dry Cough 150ml Syrup x1  10.0                             10.0"
      ]
     },
     "execution_count": 15,
     "metadata": {},
     "output_type": "execute_result"
    }
   ],
   "source": [
    "# Importing Stock Balance Data\n",
    "stk_balance = vx.read_csv('%s//data//stock_balance.csv' % path, dtype={\n",
    "                          \"Sum of stock balance in units\": \"float32\", \"Sum of stock_balance_in_packs\": \"float32\",\n",
    "                          'product id (vdl)': 'str'})\n",
    "\n",
    "# Dropping Unwanted Columns\n",
    "stk_balance.drop(columns=['inventory_date'], inplace=True)\n"
   ]
  },
  {
   "cell_type": "code",
   "execution_count": 16,
   "metadata": {},
   "outputs": [],
   "source": [
    "# Filtering out only active facilities\n",
    "stk_balance = stk_balance[stk_balance['facility_name'].isin(vfl_list)]\n"
   ]
  },
  {
   "cell_type": "code",
   "execution_count": 17,
   "metadata": {},
   "outputs": [
    {
     "data": {
      "text/plain": [
       "'Product ID'"
      ]
     },
     "execution_count": 17,
     "metadata": {},
     "output_type": "execute_result"
    }
   ],
   "source": [
    "grouped_stk = stk_balance.groupby(by=['facility_name', 'product id (vdl)', 'product_name']).agg({\n",
    "    'Sum of stock balance in units': \"sum\"})\n",
    "grouped_stk = grouped_stk[grouped_stk['Sum of stock balance in units'] > 0]\n",
    "grouped_stk.rename('product id (vdl)', 'Product ID')\n"
   ]
  },
  {
   "cell_type": "code",
   "execution_count": 18,
   "metadata": {},
   "outputs": [
    {
     "data": {
      "text/html": [
       "<table>\n",
       "<thead>\n",
       "<tr><th>#                                 </th><th>facility_name              </th><th>Product ID  </th><th>product_name                                     </th><th>Sum of stock balance in units  </th><th>Product Description                    </th><th>Form      </th><th>Strength               </th><th>Brand / Proprietary Name  </th><th>Manufacturer  </th><th>OTC/POM  </th><th>Tier  </th><th>VDL Sub Category  </th><th>Corresponding Quantity  </th></tr>\n",
       "</thead>\n",
       "<tbody>\n",
       "<tr><td><i style='opacity: 0.6'>0</i>     </td><td>Immaculate Pharmacy Ltd    </td><td>106374      </td><td>Atacand 8mg Tablets x28                          </td><td>659.0                          </td><td>Atacand 8mg Tablets x28                </td><td>Tablet    </td><td>8MG                    </td><td>ATACAND                   </td><td>AstraZeneca   </td><td>POM      </td><td>Tier 1</td><td>Anti-Hypertensives</td><td>28                      </td></tr>\n",
       "<tr><td><i style='opacity: 0.6'>1</i>     </td><td>Lifedoor Pharmacy (Spintex)</td><td>107464      </td><td>Paracetamol (Exeter) 500mg (10 Doses) Tablets x10</td><td>5290.0                         </td><td>PARACETAMOL 500MG x100                 </td><td>Tablet    </td><td>500MG                  </td><td>PARACETAMOL               </td><td>Exeter        </td><td>OTC      </td><td>Tier 2</td><td>Analgesics        </td><td>100                     </td></tr>\n",
       "<tr><td><i style='opacity: 0.6'>2</i>     </td><td>Lifedoor Pharmacy (Spintex)</td><td>108504      </td><td>Caduet 10mg/10mg Tablets x30                     </td><td>240.0                          </td><td>Caduet 10mg/10mg Tablets x30           </td><td>Tablet    </td><td>10MG/10MG              </td><td>CADUET                    </td><td>Pfizer        </td><td>POM      </td><td>Tier 1</td><td>Anti-Hypertensives</td><td>30                      </td></tr>\n",
       "<tr><td><i style='opacity: 0.6'>3</i>     </td><td>Lifedoor Pharmacy (Spintex)</td><td>108531      </td><td>Zithromax 200mg/5ml 15ml Suspension x1           </td><td>66.0                           </td><td>Zithromax 200mg/5ml 15ml Suspension x1 </td><td>Suspension</td><td>200MG/5ML              </td><td>ZITHROMAX                 </td><td>Pfizer        </td><td>POM      </td><td>Tier 1</td><td>Anti-Infectives   </td><td>1                       </td></tr>\n",
       "<tr><td><i style='opacity: 0.6'>4</i>     </td><td>Fresh Spring Chemists Ltd  </td><td>172804      </td><td>Levofloxacin (Exeter) 500mg Tablets x10          </td><td>565.0                          </td><td>Levofloxacin (Exeter) 500mg Tablets x10</td><td>Tablet    </td><td>500MG                  </td><td>Levofloxacin              </td><td>Exeter        </td><td>POM      </td><td>Tier 2</td><td>Anti-Infectives   </td><td>10                      </td></tr>\n",
       "<tr><td>...                               </td><td>...                        </td><td>...         </td><td>...                                              </td><td>...                            </td><td>...                                    </td><td>...       </td><td>...                    </td><td>...                       </td><td>...           </td><td>...      </td><td>...   </td><td>...               </td><td>...                     </td></tr>\n",
       "<tr><td><i style='opacity: 0.6'>51,861</i></td><td>Amby Chemist-Adabraka      </td><td>234483      </td><td>Alka Seltzer (2 Doses) Tablets x10               </td><td>20.0                           </td><td>Alka Seltzer (2 Doses) Tablets x10     </td><td>Tablet    </td><td>324mg/477mg            </td><td>ALKA SELTZER TABS         </td><td>Bayer         </td><td>OTC      </td><td>Tier 2</td><td>Analgesics        </td><td>20                      </td></tr>\n",
       "<tr><td><i style='opacity: 0.6'>51,862</i></td><td>Frankie Pharma             </td><td>147630      </td><td>Xylo-Acino 0.05%10ml Nasal Drops x1              </td><td>1.0                            </td><td>Xylo-Acino 0.05%10ml Nasal Drops x1    </td><td>Drop      </td><td>0.0005                 </td><td>XYLO-ACINO                </td><td>Acino         </td><td>POM      </td><td>Tier 2</td><td>Cough &amp; Flu       </td><td>1                       </td></tr>\n",
       "<tr><td><i style='opacity: 0.6'>51,863</i></td><td>Raynek Pharmacy            </td><td>143587      </td><td>DEEP HEAT GEL 35G x1                             </td><td>1.0                            </td><td>DEEP HEAT GEL 35G x1                   </td><td>Gel       </td><td>12.8%/5.91%/1.97%/1.47%</td><td>DEEP HEAT                 </td><td>Mentholatum   </td><td>OTC      </td><td>Tier 1</td><td>Analgesics        </td><td>1                       </td></tr>\n",
       "<tr><td><i style='opacity: 0.6'>51,864</i></td><td>Amby Chemist-Kumasi        </td><td>124131      </td><td>Luex Children&#x27;s Chesty Cough 100ml Syrup x1      </td><td>1.0                            </td><td>LUEX CHILD CHESTY x1                   </td><td>Syrup     </td><td>1                      </td><td>LUEX CHILD CHESTY         </td><td>Luex          </td><td>OTC      </td><td>Tier 3</td><td>Cough &amp; Flu       </td><td>1                       </td></tr>\n",
       "<tr><td><i style='opacity: 0.6'>51,865</i></td><td>Amby Chemist-Kumasi        </td><td>165564      </td><td>ADDYZOA (20 doses) Tablets x1                    </td><td>40.0                           </td><td>ADDYZOA (20 doses) Tablets x1          </td><td>Capsule   </td><td>100mg                  </td><td>ADDYZOA                   </td><td>Charak        </td><td>POM      </td><td>Tier 3</td><td>Fertility         </td><td>20                      </td></tr>\n",
       "</tbody>\n",
       "</table>"
      ],
      "text/plain": [
       "#       facility_name                Product ID    product_name                                       Sum of stock balance in units    Product Description                      Form        Strength                 Brand / Proprietary Name    Manufacturer    OTC/POM    Tier    VDL Sub Category    Corresponding Quantity\n",
       "0       Immaculate Pharmacy Ltd      106374        Atacand 8mg Tablets x28                            659.0                            Atacand 8mg Tablets x28                  Tablet      8MG                      ATACAND                     AstraZeneca     POM        Tier 1  Anti-Hypertensives  28\n",
       "1       Lifedoor Pharmacy (Spintex)  107464        Paracetamol (Exeter) 500mg (10 Doses) Tablets x10  5290.0                           PARACETAMOL 500MG x100                   Tablet      500MG                    PARACETAMOL                 Exeter          OTC        Tier 2  Analgesics          100\n",
       "2       Lifedoor Pharmacy (Spintex)  108504        Caduet 10mg/10mg Tablets x30                       240.0                            Caduet 10mg/10mg Tablets x30             Tablet      10MG/10MG                CADUET                      Pfizer          POM        Tier 1  Anti-Hypertensives  30\n",
       "3       Lifedoor Pharmacy (Spintex)  108531        Zithromax 200mg/5ml 15ml Suspension x1             66.0                             Zithromax 200mg/5ml 15ml Suspension x1   Suspension  200MG/5ML                ZITHROMAX                   Pfizer          POM        Tier 1  Anti-Infectives     1\n",
       "4       Fresh Spring Chemists Ltd    172804        Levofloxacin (Exeter) 500mg Tablets x10            565.0                            Levofloxacin (Exeter) 500mg Tablets x10  Tablet      500MG                    Levofloxacin                Exeter          POM        Tier 2  Anti-Infectives     10\n",
       "...     ...                          ...           ...                                                ...                              ...                                      ...         ...                      ...                         ...             ...        ...     ...                 ...\n",
       "51,861  Amby Chemist-Adabraka        234483        Alka Seltzer (2 Doses) Tablets x10                 20.0                             Alka Seltzer (2 Doses) Tablets x10       Tablet      324mg/477mg              ALKA SELTZER TABS           Bayer           OTC        Tier 2  Analgesics          20\n",
       "51,862  Frankie Pharma               147630        Xylo-Acino 0.05%10ml Nasal Drops x1                1.0                              Xylo-Acino 0.05%10ml Nasal Drops x1      Drop        0.0005                   XYLO-ACINO                  Acino           POM        Tier 2  Cough & Flu         1\n",
       "51,863  Raynek Pharmacy              143587        DEEP HEAT GEL 35G x1                               1.0                              DEEP HEAT GEL 35G x1                     Gel         12.8%/5.91%/1.97%/1.47%  DEEP HEAT                   Mentholatum     OTC        Tier 1  Analgesics          1\n",
       "51,864  Amby Chemist-Kumasi          124131        Luex Children's Chesty Cough 100ml Syrup x1        1.0                              LUEX CHILD CHESTY x1                     Syrup       1                        LUEX CHILD CHESTY           Luex            OTC        Tier 3  Cough & Flu         1\n",
       "51,865  Amby Chemist-Kumasi          165564        ADDYZOA (20 doses) Tablets x1                      40.0                             ADDYZOA (20 doses) Tablets x1            Capsule     100mg                    ADDYZOA                     Charak          POM        Tier 3  Fertility           20"
      ]
     },
     "execution_count": 18,
     "metadata": {},
     "output_type": "execute_result"
    }
   ],
   "source": [
    "grouped_stk.join(vdl_vx, how='left', left_on='Product ID',\n",
    "                 right_on='Product ID', rsuffix='_sc', inplace=True)\n",
    "grouped_stk.drop(\"Product ID_sc\", inplace=True)\n"
   ]
  },
  {
   "cell_type": "code",
   "execution_count": 19,
   "metadata": {},
   "outputs": [],
   "source": [
    "grouped_stk['Stock Balance'] = grouped_stk['Sum of stock balance in units'] / \\\n",
    "    grouped_stk['Corresponding Quantity']\n"
   ]
  },
  {
   "cell_type": "code",
   "execution_count": 20,
   "metadata": {},
   "outputs": [],
   "source": [
    "grouped_stk = grouped_stk.extract()\n",
    "grouped_stk.export_csv(\"data//cleaned_stock_balance.csv\")\n"
   ]
  },
  {
   "cell_type": "markdown",
   "metadata": {},
   "source": [
    "**Category Based Analysis**\n"
   ]
  },
  {
   "cell_type": "code",
   "execution_count": 21,
   "metadata": {},
   "outputs": [
    {
     "ename": "SyntaxError",
     "evalue": "invalid syntax (<unknown>, line 1)",
     "output_type": "error",
     "traceback": [
      "Traceback \u001b[1;36m(most recent call last)\u001b[0m:\n",
      "\u001b[0m  File \u001b[0;32mc:\\Users\\andre\\Projects\\time_series\\time_env\\lib\\site-packages\\IPython\\core\\interactiveshell.py:3378\u001b[0m in \u001b[0;35mrun_code\u001b[0m\n    exec(code_obj, self.user_global_ns, self.user_ns)\u001b[0m\n",
      "\u001b[0m  Cell \u001b[0;32mIn [21], line 1\u001b[0m\n    Loc_Cat_df = filtered_data.groupby(by=['VDL_Sub_Category'], agg={\u001b[0m\n",
      "\u001b[0m  File \u001b[0;32mc:\\Users\\andre\\Projects\\time_series\\time_env\\lib\\site-packages\\vaex\\dataframe.py:7182\u001b[0m in \u001b[0;35mgroupby\u001b[0m\n    return self._delay(delay, progressbar.exit_on(next(groupby._promise_by)))\u001b[0m\n",
      "\u001b[0m  File \u001b[0;32mc:\\Users\\andre\\Projects\\time_series\\time_env\\lib\\site-packages\\vaex\\dataframe.py:1781\u001b[0m in \u001b[0;35m_delay\u001b[0m\n    return task.get()\u001b[0m\n",
      "\u001b[0m  File \u001b[0;32mc:\\Users\\andre\\Projects\\time_series\\time_env\\lib\\site-packages\\aplus\\__init__.py:170\u001b[0m in \u001b[0;35mget\u001b[0m\n    raise self._reason\u001b[0m\n",
      "\u001b[0m  File \u001b[0;32mc:\\Users\\andre\\Projects\\time_series\\time_env\\lib\\site-packages\\vaex\\promise.py:121\u001b[0m in \u001b[0;35mcallAndReject\u001b[0m\n    ret.fulfill(failure(r))\u001b[0m\n",
      "\u001b[0m  File \u001b[0;32mc:\\Users\\andre\\Projects\\time_series\\time_env\\lib\\site-packages\\vaex\\progress.py:91\u001b[0m in \u001b[0;35merror\u001b[0m\n    raise arg\u001b[0m\n",
      "\u001b[0m  File \u001b[0;32mc:\\Users\\andre\\Projects\\time_series\\time_env\\lib\\site-packages\\vaex\\promise.py:106\u001b[0m in \u001b[0;35mcallAndFulfill\u001b[0m\n    ret.fulfill(success(v))\u001b[0m\n",
      "\u001b[0m  File \u001b[0;32mc:\\Users\\andre\\Projects\\time_series\\time_env\\lib\\site-packages\\vaex\\delayed.py:82\u001b[0m in \u001b[0;35mcall\u001b[0m\n    return f(*args_real, **kwargs_real)\u001b[0m\n",
      "\u001b[0m  File \u001b[0;32mc:\\Users\\andre\\Projects\\time_series\\time_env\\lib\\site-packages\\vaex\\dataframe.py:7181\u001b[0m in \u001b[0;35mnext\u001b[0m\n    return groupby.agg(agg, delay=delay, progress=progressbar_agg)\u001b[0m\n",
      "\u001b[0m  File \u001b[0;32mc:\\Users\\andre\\Projects\\time_series\\time_env\\lib\\site-packages\\vaex\\groupby.py:974\u001b[0m in \u001b[0;35magg\u001b[0m\n    return result.get()\u001b[0m\n",
      "\u001b[0m  File \u001b[0;32mc:\\Users\\andre\\Projects\\time_series\\time_env\\lib\\site-packages\\aplus\\__init__.py:170\u001b[0m in \u001b[0;35mget\u001b[0m\n    raise self._reason\u001b[0m\n",
      "\u001b[0m  File \u001b[0;32mc:\\Users\\andre\\Projects\\time_series\\time_env\\lib\\site-packages\\vaex\\promise.py:121\u001b[0m in \u001b[0;35mcallAndReject\u001b[0m\n    ret.fulfill(failure(r))\u001b[0m\n",
      "\u001b[0m  File \u001b[0;32mc:\\Users\\andre\\Projects\\time_series\\time_env\\lib\\site-packages\\vaex\\progress.py:91\u001b[0m in \u001b[0;35merror\u001b[0m\n    raise arg\u001b[0m\n",
      "\u001b[0m  File \u001b[0;32mc:\\Users\\andre\\Projects\\time_series\\time_env\\lib\\site-packages\\vaex\\promise.py:121\u001b[0m in \u001b[0;35mcallAndReject\u001b[0m\n    ret.fulfill(failure(r))\u001b[0m\n",
      "\u001b[0m  File \u001b[0;32mc:\\Users\\andre\\Projects\\time_series\\time_env\\lib\\site-packages\\vaex\\delayed.py:38\u001b[0m in \u001b[0;35m_wrapped\u001b[0m\n    raise exc\u001b[0m\n",
      "\u001b[0m  File \u001b[0;32mc:\\Users\\andre\\Projects\\time_series\\time_env\\lib\\site-packages\\vaex\\promise.py:121\u001b[0m in \u001b[0;35mcallAndReject\u001b[0m\n    ret.fulfill(failure(r))\u001b[0m\n",
      "\u001b[0m  File \u001b[0;32mc:\\Users\\andre\\Projects\\time_series\\time_env\\lib\\site-packages\\vaex\\delayed.py:38\u001b[0m in \u001b[0;35m_wrapped\u001b[0m\n    raise exc\u001b[0m\n",
      "\u001b[0m  File \u001b[0;32mc:\\Users\\andre\\Projects\\time_series\\time_env\\lib\\site-packages\\vaex\\promise.py:106\u001b[0m in \u001b[0;35mcallAndFulfill\u001b[0m\n    ret.fulfill(success(v))\u001b[0m\n",
      "\u001b[0m  File \u001b[0;32mc:\\Users\\andre\\Projects\\time_series\\time_env\\lib\\site-packages\\vaex\\delayed.py:82\u001b[0m in \u001b[0;35mcall\u001b[0m\n    return f(*args_real, **kwargs_real)\u001b[0m\n",
      "\u001b[0m  File \u001b[0;32mc:\\Users\\andre\\Projects\\time_series\\time_env\\lib\\site-packages\\vaex\\groupby.py:874\u001b[0m in \u001b[0;35maggregate\u001b[0m\n    arrays = super(GroupBy, self)._agg(actions, progressbar)\u001b[0m\n",
      "\u001b[0m  File \u001b[0;32mc:\\Users\\andre\\Projects\\time_series\\time_env\\lib\\site-packages\\vaex\\groupby.py:739\u001b[0m in \u001b[0;35m_agg\u001b[0m\n    add(aggregate(name), name, override_name=override_name)\u001b[0m\n",
      "\u001b[0m  File \u001b[0;32mc:\\Users\\andre\\Projects\\time_series\\time_env\\lib\\site-packages\\vaex\\groupby.py:701\u001b[0m in \u001b[0;35madd\u001b[0m\n    values = df._agg(aggregate, self.binners, delay=_USE_DELAY, progress=progressbar_agg)\u001b[0m\n",
      "\u001b[0m  File \u001b[0;32mc:\\Users\\andre\\Projects\\time_series\\time_env\\lib\\site-packages\\vaex\\dataframe.py:5579\u001b[0m in \u001b[0;35m_agg\u001b[0m\n    tasks, result = aggregator.add_tasks(self, binners, progress=progress)\u001b[0m\n",
      "\u001b[0m  File \u001b[0;32mc:\\Users\\andre\\Projects\\time_series\\time_env\\lib\\site-packages\\vaex\\agg.py:269\u001b[0m in \u001b[0;35madd_tasks\u001b[0m\n    self._prepare_types(df)\u001b[0m\n",
      "\u001b[0m  File \u001b[0;32mc:\\Users\\andre\\Projects\\time_series\\time_env\\lib\\site-packages\\vaex\\agg.py:259\u001b[0m in \u001b[0;35m_prepare_types\u001b[0m\n    self.dtypes_in = [df[str(e)].data_type().index_type for e in self.expressions]\u001b[0m\n",
      "\u001b[0m  File \u001b[0;32mc:\\Users\\andre\\Projects\\time_series\\time_env\\lib\\site-packages\\vaex\\agg.py:259\u001b[0m in \u001b[0;35m<listcomp>\u001b[0m\n    self.dtypes_in = [df[str(e)].data_type().index_type for e in self.expressions]\u001b[0m\n",
      "\u001b[0m  File \u001b[0;32mc:\\Users\\andre\\Projects\\time_series\\time_env\\lib\\site-packages\\vaex\\dataframe.py:5386\u001b[0m in \u001b[0;35m__getitem__\u001b[0m\n    self.validate_expression(item)\u001b[0m\n",
      "\u001b[0m  File \u001b[0;32mc:\\Users\\andre\\Projects\\time_series\\time_env\\lib\\site-packages\\vaex\\dataframe.py:3444\u001b[0m in \u001b[0;35mvalidate_expression\u001b[0m\n    return vaex.expresso.validate_expression(expression, vars, funcs)\u001b[0m\n",
      "\u001b[0m  File \u001b[0;32mc:\\Users\\andre\\Projects\\time_series\\time_env\\lib\\site-packages\\vaex\\expresso.py:77\u001b[0m in \u001b[0;35mvalidate_expression\u001b[0m\n    node = ast.parse(expr)\u001b[0m\n",
      "\u001b[1;36m  File \u001b[1;32m~\\AppData\\Local\\Programs\\Python\\Python38\\lib\\ast.py:47\u001b[1;36m in \u001b[1;35mparse\u001b[1;36m\n\u001b[1;33m    return compile(source, filename, mode, flags,\u001b[1;36m\n",
      "\u001b[1;36m  File \u001b[1;32m<unknown>:1\u001b[1;36m\u001b[0m\n\u001b[1;33m    Pack(s)_Sold\u001b[0m\n\u001b[1;37m           ^\u001b[0m\n\u001b[1;31mSyntaxError\u001b[0m\u001b[1;31m:\u001b[0m invalid syntax\n"
     ]
    }
   ],
   "source": [
    "Loc_Cat_df = filtered_data.groupby(by=['VDL_Sub_Category'], agg={\n",
    "    'Pack(s)_Sold': 'sum'}).sort(by='Pack(s)_Sold', ascending=False)\n"
   ]
  },
  {
   "cell_type": "code",
   "execution_count": null,
   "metadata": {},
   "outputs": [],
   "source": [
    "location = filtered_data['LOCATION'].unique()\n"
   ]
  },
  {
   "cell_type": "code",
   "execution_count": null,
   "metadata": {},
   "outputs": [],
   "source": [
    "px.line(data_frame=Loc_Cat_df, x='Sale_Date', y='Pack(s)_Sold')\n"
   ]
  },
  {
   "cell_type": "code",
   "execution_count": null,
   "metadata": {},
   "outputs": [],
   "source": [
    "df = px.data.tips()\n",
    "fig = px.scatter(df, x=\"total_bill\", y=\"tip\", color=\"sex\", symbol=\"smoker\", facet_col=\"time\",\n",
    "                 labels={\"sex\": \"Gender\", \"smoker\": \"Smokes\"})\n",
    "fig.show()\n"
   ]
  }
 ],
 "metadata": {
  "kernelspec": {
   "display_name": "Python 3.8.3 ('time_env': venv)",
   "language": "python",
   "name": "python3"
  },
  "language_info": {
   "codemirror_mode": {
    "name": "ipython",
    "version": 3
   },
   "file_extension": ".py",
   "mimetype": "text/x-python",
   "name": "python",
   "nbconvert_exporter": "python",
   "pygments_lexer": "ipython3",
   "version": "3.8.3"
  },
  "orig_nbformat": 4,
  "vscode": {
   "interpreter": {
    "hash": "11290721056f2e46499de3aac73c319d18c43e9dc2e09eff74b6cc9d5e765856"
   }
  }
 },
 "nbformat": 4,
 "nbformat_minor": 2
}
